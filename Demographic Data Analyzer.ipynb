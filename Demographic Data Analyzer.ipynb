{
 "cells": [
  {
   "cell_type": "code",
   "execution_count": 5,
   "id": "2c5406ae",
   "metadata": {},
   "outputs": [],
   "source": [
    "import pandas as pd\n",
    "\n",
    "def calculate_demographic_data(print_data=True):\n",
    "    df = pd.read_csv(\"adult.data.csv\")\n",
    "\n",
    "    # How many of each race are represented in this dataset? This should be a Pandas series with race names as the index labels.\n",
    "    race_count = df[\"race\"].value_counts()\n",
    "\n",
    "    # What is the average age of men?\n",
    "    average_age_men = df[df[\"sex\"] == \"Male\"][\"age\"].mean().round(1)\n",
    "\n",
    "    # What is the percentage of people who have a Bachelor's degree?\n",
    "    num_bachelor = len(df[df['education'] == 'Bachelors'])\n",
    "    num_total = len(df)\n",
    "    percentage_bachelors = round(num_bachelor / num_total * 100, 1)\n",
    "\n",
    "    # What percentage of people with advanced education (`Bachelors`, `Masters`, or `Doctorate`) make more than 50K?\n",
    "    # What percentage of people without advanced education make more than 50K?\n",
    "\n",
    "    # with and without `Bachelors`, `Masters`, or `Doctorate`\n",
    "    higher_education = df[df[\"education\"].isin(['Bachelors', 'Masters','Doctorate'])]\n",
    "    lower_education = df[~df[\"education\"].isin(['Bachelors', 'Masters','Doctorate'])]\n",
    "\n",
    "    # percentage with salary >50K\n",
    "    num_higher_education = len(higher_education[higher_education['salary'] =='>50K'])\n",
    "  \n",
    "    num_low_education =  len(lower_education[lower_education['salary'] =='<=50K'])\n",
    "  \n",
    "    higher_education_rich =round(num_higher_education / len(higher_education) * 100, 1)\n",
    "    lower_education_rich =  round(num_low_education / len(lower_education) * 100, 1)\n",
    "\n",
    "    # What is the minimum number of hours a person works per week (hours-per-week feature)?\n",
    "    min_work_hours = df['hours-per-week'].min()\n",
    "\n",
    "    # What percentage of the people who work the minimum number of hours per week have a salary of >50K?\n",
    "    num_min_workers = df[df['hours-per-week'] == min_work_hours]\n",
    "  \n",
    "    min_work_rich = num_min_workers[num_min_workers['salary'] == '>50K']\n",
    "    rich_percentage = round(len(min_work_rich) / len(num_min_workers) * 100, 1)\n",
    "\n",
    "    # What country has the highest percentage of people that earn >50K?\n",
    "    rich_native = df[df['salary'] == \">50K\"]['native-country'].value_counts()\n",
    "    num_country = df['native-country'].value_counts()\n",
    "  \n",
    "    highest_earning_country = df['native-country'].value_counts()\n",
    "    highest_earning_country_percentage = None\n",
    "\n",
    "    # Identify the most popular occupation for those who earn >50K in India.\n",
    "    top_IN_occupation = None\n"
   ]
  },
  {
   "cell_type": "code",
   "execution_count": 6,
   "id": "5c20d2d4",
   "metadata": {},
   "outputs": [
    {
     "ename": "IndentationError",
     "evalue": "unexpected indent (Temp/ipykernel_25840/4094097033.py, line 2)",
     "output_type": "error",
     "traceback": [
      "\u001b[1;36m  File \u001b[1;32m\"C:\\Users\\USER\\AppData\\Local\\Temp/ipykernel_25840/4094097033.py\"\u001b[1;36m, line \u001b[1;32m2\u001b[0m\n\u001b[1;33m    race_count = df[\"race\"].value_counts()\u001b[0m\n\u001b[1;37m    ^\u001b[0m\n\u001b[1;31mIndentationError\u001b[0m\u001b[1;31m:\u001b[0m unexpected indent\n"
     ]
    }
   ],
   "source": [
    " # How many of each race are represented in this dataset? This should be a Pandas series with race names as the index labels.\n",
    "    race_count = df[\"race\"].value_counts()"
   ]
  }
 ],
 "metadata": {
  "kernelspec": {
   "display_name": "Python 3 (ipykernel)",
   "language": "python",
   "name": "python3"
  },
  "language_info": {
   "codemirror_mode": {
    "name": "ipython",
    "version": 3
   },
   "file_extension": ".py",
   "mimetype": "text/x-python",
   "name": "python",
   "nbconvert_exporter": "python",
   "pygments_lexer": "ipython3",
   "version": "3.9.7"
  }
 },
 "nbformat": 4,
 "nbformat_minor": 5
}
