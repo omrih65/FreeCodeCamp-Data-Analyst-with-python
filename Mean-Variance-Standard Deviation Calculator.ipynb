{
 "cells": [
  {
   "cell_type": "code",
   "execution_count": 1,
   "id": "e6c86dec",
   "metadata": {},
   "outputs": [],
   "source": [
    "import numpy as np\n",
    "\n",
    "def calculate(list):\n",
    "  if len(list) != 9:\n",
    "    raise ValueError(\"List must contain nine numbers.\")\n",
    "\n",
    "  arr = np.array(list).reshape((3, 3))\n",
    "  \n",
    "  mean = [arr.mean(axis = 0).tolist(), arr.mean(axis = 1).tolist(), arr.mean().tolist()]\n",
    "  variance = [arr.var(axis = 0).tolist(), arr.var(axis = 1).tolist(), arr.var().tolist()]\n",
    "  standard_deviation = [arr.std(axis = 0).tolist(), arr.std(axis = 1).tolist(), arr.std().tolist()]\n",
    "  arr_max =  [arr.max(axis = 0).tolist(), arr.max(axis = 1).tolist(), arr.max().tolist()]\n",
    "  arr_min = [arr.min(axis = 0).tolist(), arr.min(axis = 1).tolist(), arr.min().tolist()]\n",
    "  arr_sum = [arr.sum(axis = 0).tolist(), arr.sum(axis = 1).tolist(), arr.sum().tolist()]\n",
    "\n",
    "  return {\n",
    "          'mean': mean,\n",
    "          'variance': variance,\n",
    "          'standard deviation': standard_deviation,\n",
    "          'max': arr_max,\n",
    "          'min': arr_min,\n",
    "          'sum': arr_sum\n",
    "}"
   ]
  },
  {
   "cell_type": "code",
   "execution_count": 2,
   "id": "f8ac7a60",
   "metadata": {},
   "outputs": [
    {
     "data": {
      "text/plain": [
       "{'mean': [[3.0, 4.0, 5.0], [1.0, 4.0, 7.0], 4.0],\n",
       " 'variance': [[6.0, 6.0, 6.0],\n",
       "  [0.6666666666666666, 0.6666666666666666, 0.6666666666666666],\n",
       "  6.666666666666667],\n",
       " 'standard deviation': [[[2.449489742783178,\n",
       "    2.449489742783178,\n",
       "    2.449489742783178],\n",
       "   [0.816496580927726, 0.816496580927726, 0.816496580927726],\n",
       "   2.581988897471611]],\n",
       " 'max': [[[6, 7, 8], [2, 5, 8], 8]],\n",
       " 'min': [[[0, 1, 2], [0, 3, 6], 0]],\n",
       " 'sum': [[[9, 12, 15], [3, 12, 21], 36]]}"
      ]
     },
     "execution_count": 2,
     "metadata": {},
     "output_type": "execute_result"
    }
   ],
   "source": []
  },
  {
   "cell_type": "code",
   "execution_count": 2,
   "id": "f5dd76fc",
   "metadata": {},
   "outputs": [
    {
     "data": {
      "text/plain": [
       "{'mean': [[4.666666666666667, 4.333333333333333, 2.6666666666666665],\n",
       "  [5.0, 3.0, 3.6666666666666665],\n",
       "  3.888888888888889],\n",
       " 'variance': [[9.555555555555555, 11.555555555555557, 4.222222222222222],\n",
       "  [10.666666666666666, 0.0, 14.888888888888891],\n",
       "  9.209876543209875],\n",
       " 'standard deviation': [[3.0912061651652345,\n",
       "   3.39934634239519,\n",
       "   2.0548046676563256],\n",
       "  [3.265986323710904, 0.0, 3.8586123009300755],\n",
       "  3.0347778408328137],\n",
       " 'max': [[9, 9, 5], [9, 3, 9], 9],\n",
       " 'min': [[2, 1, 0], [1, 3, 0], 0],\n",
       " 'sum': [[14, 13, 8], [15, 9, 11], 35]}"
      ]
     },
     "execution_count": 2,
     "metadata": {},
     "output_type": "execute_result"
    }
   ],
   "source": [
    "calculate([9,1,5,3,3,3,2,9,0])"
   ]
  },
  {
   "cell_type": "code",
   "execution_count": null,
   "id": "1c8f2cc6",
   "metadata": {},
   "outputs": [],
   "source": []
  }
 ],
 "metadata": {
  "kernelspec": {
   "display_name": "Python 3 (ipykernel)",
   "language": "python",
   "name": "python3"
  },
  "language_info": {
   "codemirror_mode": {
    "name": "ipython",
    "version": 3
   },
   "file_extension": ".py",
   "mimetype": "text/x-python",
   "name": "python",
   "nbconvert_exporter": "python",
   "pygments_lexer": "ipython3",
   "version": "3.9.7"
  }
 },
 "nbformat": 4,
 "nbformat_minor": 5
}
